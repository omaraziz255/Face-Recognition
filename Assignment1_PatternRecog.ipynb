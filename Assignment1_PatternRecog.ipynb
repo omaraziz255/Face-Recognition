{
  "nbformat": 4,
  "nbformat_minor": 0,
  "metadata": {
    "colab": {
      "name": "Assignment1_PatternRecog.ipynb",
      "provenance": [],
      "include_colab_link": true
    },
    "kernelspec": {
      "name": "python3",
      "display_name": "Python 3"
    }
  },
  "cells": [
    {
      "cell_type": "markdown",
      "metadata": {
        "id": "view-in-github",
        "colab_type": "text"
      },
      "source": [
        "<a href=\"https://colab.research.google.com/github/omaraziz255/Face-Recognition/blob/master/Assignment1_PatternRecog.ipynb\" target=\"_parent\"><img src=\"https://colab.research.google.com/assets/colab-badge.svg\" alt=\"Open In Colab\"/></a>"
      ]
    },
    {
      "cell_type": "code",
      "metadata": {
        "id": "gyuuLDNJG25a",
        "colab_type": "code",
        "outputId": "18bd47b4-6ad2-452b-86b8-78ebb3a564c5",
        "colab": {
          "base_uri": "https://localhost:8080/",
          "height": 34
        }
      },
      "source": [
        "from google.colab import files \n",
        "import os\n",
        "import numpy as np\n",
        "from PIL import Image\n",
        "from matplotlib import image\n",
        "labels = np.array([]) \n",
        "data = None\n",
        "root = \"./att_faces\"\n",
        "for directory in os.listdir(root):\n",
        "  path = root + \"/\" +  directory\n",
        "  if os.path.isdir(path):\n",
        "    for filename in os.listdir(path):\n",
        "      label = directory[1:]\n",
        "      labels = np.append(labels,int(label))\n",
        "      imagedata = (image.imread(root + \"/\" + directory + \"/\" + filename))\n",
        "      vectorized = np.matrix.flatten(imagedata.transpose())\n",
        "      vectorized = np.matrix(vectorized)\n",
        "      if data is None:\n",
        "        data = vectorized\n",
        "      else:\n",
        "        data = np.concatenate((data, vectorized), axis=0)\n",
        "train = data[::2]\n",
        "test = data[1::2]\n",
        "y_train = labels[::2]\n",
        "y_test = labels[1::2]"
      ],
      "execution_count": 0,
      "outputs": [
        {
          "output_type": "stream",
          "text": [
            "200\n"
          ],
          "name": "stdout"
        }
      ]
    },
    {
      "cell_type": "code",
      "metadata": {
        "id": "Sarf3LKih-GH",
        "colab_type": "code",
        "outputId": "a7270d9a-9d52-43ab-8615-36a5ad543985",
        "colab": {
          "base_uri": "https://localhost:8080/",
          "height": 34
        }
      },
      "source": [
        "\n",
        "len(imagedata.transpose())"
      ],
      "execution_count": 0,
      "outputs": [
        {
          "output_type": "execute_result",
          "data": {
            "text/plain": [
              "92"
            ]
          },
          "metadata": {
            "tags": []
          },
          "execution_count": 37
        }
      ]
    }
  ]
}